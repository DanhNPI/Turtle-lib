{
 "cells": [
  {
   "cell_type": "code",
   "execution_count": 1,
   "metadata": {},
   "outputs": [],
   "source": [
    "# Ve da giac\n",
    "# Them thu vien turtle\n",
    "import turtle\n",
    "\n",
    "# Khoi tao nhan vat\n",
    "nv = turtle.Turtle()\n",
    "nv.speed(1)\n",
    "\n",
    "# Bat dau ve\n",
    "nv.penup()\n",
    "nv.goto(-50, -50)\n",
    "nv.pendown()\n",
    "\n",
    "nv.fillcolor('red')\n",
    "\n",
    "nv.begin_fill()\n",
    "for i in range (10):\n",
    "    nv.forward(100)\n",
    "    nv.left(36)\n",
    "nv.end_fill()\n",
    "\n",
    "\n",
    "# Ket thuc\n",
    "turtle.done()\n"
   ]
  }
 ],
 "metadata": {
  "interpreter": {
   "hash": "b3ba2566441a7c06988d0923437866b63cedc61552a5af99d1f4fb67d367b25f"
  },
  "kernelspec": {
   "display_name": "Python 3.8.8 64-bit",
   "language": "python",
   "name": "python3"
  },
  "language_info": {
   "codemirror_mode": {
    "name": "ipython",
    "version": 3
   },
   "file_extension": ".py",
   "mimetype": "text/x-python",
   "name": "python",
   "nbconvert_exporter": "python",
   "pygments_lexer": "ipython3",
   "version": "3.10.2"
  },
  "orig_nbformat": 4
 },
 "nbformat": 4,
 "nbformat_minor": 2
}
